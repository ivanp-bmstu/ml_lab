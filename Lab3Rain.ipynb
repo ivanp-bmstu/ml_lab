{
  "nbformat": 4,
  "nbformat_minor": 0,
  "metadata": {
    "colab": {
      "name": "Lab3Rain.ipynb",
      "provenance": [],
      "collapsed_sections": []
    },
    "kernelspec": {
      "name": "python3",
      "display_name": "Python 3"
    }
  },
  "cells": [
    {
      "cell_type": "markdown",
      "metadata": {
        "id": "EkkzHeLShw8C"
      },
      "source": [
        "Импортируем библиотеки. Загружаем данные."
      ]
    },
    {
      "cell_type": "code",
      "metadata": {
        "id": "UjTWG8poyxMK",
        "colab": {
          "base_uri": "https://localhost:8080/"
        },
        "outputId": "4dec3faf-d45f-49ed-e939-56c86528134d"
      },
      "source": [
        "import numpy as np\n",
        "import pandas as pd\n",
        "from sklearn.linear_model import LogisticRegression\n",
        "from sklearn.model_selection import KFold, cross_val_score, GridSearchCV\n",
        "from matplotlib import pyplot as plt\n",
        "import numpy as np\n",
        "%matplotlib inline\n",
        "from google.colab import drive\n",
        "drive.mount('/content/drive')"
      ],
      "execution_count": null,
      "outputs": [
        {
          "output_type": "stream",
          "text": [
            "Mounted at /content/drive\n"
          ],
          "name": "stdout"
        }
      ]
    },
    {
      "cell_type": "markdown",
      "metadata": {
        "id": "ie7IMm08h7pz"
      },
      "source": [
        "Удаляем ненужный столбец."
      ]
    },
    {
      "cell_type": "code",
      "metadata": {
        "id": "zokGKi9-0T-N"
      },
      "source": [
        "data = pd.read_csv('/content/drive/My Drive/Colab Notebooks/Rain.csv', sep=',')\n",
        "data=data.drop(['Unnamed: 0'], axis='columns')"
      ],
      "execution_count": null,
      "outputs": []
    },
    {
      "cell_type": "markdown",
      "metadata": {
        "id": "7K3HuvOoiAFr"
      },
      "source": [
        "Создаем обучающую и тестовую модели."
      ]
    },
    {
      "cell_type": "code",
      "metadata": {
        "id": "eDa6IJT2FLZW"
      },
      "source": [
        "X = data[data.columns[:-1]]\n",
        "y = data['RainTomorrow']\n",
        "from sklearn.model_selection import train_test_split\n",
        "X_train, X_test, y_train, y_test = train_test_split(X, y)"
      ],
      "execution_count": null,
      "outputs": []
    },
    {
      "cell_type": "markdown",
      "metadata": {
        "id": "6vg60iRiiDft"
      },
      "source": [
        "Проводим нормализацию."
      ]
    },
    {
      "cell_type": "code",
      "metadata": {
        "id": "vLWlH3aq_GZa"
      },
      "source": [
        "from sklearn.preprocessing import MinMaxScaler\n",
        "from sklearn.neighbors import KNeighborsClassifier\n",
        "scaler = MinMaxScaler()\n",
        "X_train_scaled = pd.DataFrame(scaler.fit_transform(X_train), columns=X_train.columns)\n",
        "X_test_scaled = pd.DataFrame(scaler.transform(X_test), columns=X_train.columns)"
      ],
      "execution_count": null,
      "outputs": []
    },
    {
      "cell_type": "code",
      "metadata": {
        "id": "aXmxv2AiFpX5"
      },
      "source": [
        "#X_train_scaled.reset_index(inplace=True, drop=True)\n",
        "#y_train.reset_index(drop=True, inplace=True)\n",
        "#RainYes = X_train_scaled[y_train == 1]\n",
        "#X_train_strat = pd.concat([X_train_scaled, RainYes, RainYes,RainYes], ignore_index=True)\n",
        "#y_train_strat = pd.concat([y_train, pd.Series(np.ones(X_train_strat.shape[0]-X_train_scaled.shape[0]))],\n",
        "                          #ignore_index=True)"
      ],
      "execution_count": null,
      "outputs": []
    },
    {
      "cell_type": "markdown",
      "metadata": {
        "id": "DMAgYv7qiMsd"
      },
      "source": [
        "Заготовка таблицы. Колонки - признаки, строчки - глубина регуляризации, ячейки - веса."
      ]
    },
    {
      "cell_type": "code",
      "metadata": {
        "id": "-rETkV7r5t8-"
      },
      "source": [
        "col = ['coef_%s'%i for i in  list(X_train_scaled.columns.values) ]\n",
        "ind = ['C=%f'%i for i in [10**-5, 10**-4, 10**-3, 10**-2, 10**-1, 10**0, 10**1, 10**2, 10**3, 10**4, 10**5]]\n",
        "coef_matrix_simple = pd.DataFrame(index=ind, columns=col)"
      ],
      "execution_count": null,
      "outputs": []
    },
    {
      "cell_type": "markdown",
      "metadata": {
        "id": "x0OCcmjxiuvC"
      },
      "source": [
        "Добавляем библиотеки метрик."
      ]
    },
    {
      "cell_type": "code",
      "metadata": {
        "id": "IEH6vxDPz8S8"
      },
      "source": [
        "from sklearn.metrics import accuracy_score, precision_score, recall_score, precision_recall_curve, roc_auc_score, f1_score, fbeta_score, auc"
      ],
      "execution_count": null,
      "outputs": []
    },
    {
      "cell_type": "markdown",
      "metadata": {
        "id": "o1Rr00l0jXzQ"
      },
      "source": [
        "Обучаем логистическую регрессию L2-регуляризаций, считаем recall и оцениваем веса признаков."
      ]
    },
    {
      "cell_type": "code",
      "metadata": {
        "id": "JAt5rtWH5uoV",
        "colab": {
          "base_uri": "https://localhost:8080/",
          "height": 784
        },
        "outputId": "20302ab1-f320-4bf8-ffed-1af65c74e244"
      },
      "source": [
        "accuracy = []\n",
        "C_list = [10**-5, 10**-4, 10**-3, 10**-2, 10**-1, 10**0, 10**1, 10**2, 10**3, 10**4, 10**5]\n",
        "\n",
        "for i in range(0, len(C_list)):\n",
        "    clf = LogisticRegression(C=C_list[i], random_state=10, solver='lbfgs', max_iter=200)\n",
        "    clf.fit(X_train_scaled, y_train)\n",
        "    a=clf.predict(X_test_scaled)\n",
        "    #pr, rec, _ = precision_recall_curve(y_test, a)\n",
        "    current_score = recall_score(y_test, a)\n",
        "    coef_matrix_simple.iloc[i,:]=clf.coef_\n",
        "    accuracy.append(current_score)\n",
        "    print('При С =', C_list[i], 'точность равна', current_score)\n",
        "max_score = 0    \n",
        "for i in range(0, len(accuracy)):\n",
        "    if max_score < accuracy[i]:\n",
        "        max_score = accuracy[i]\n",
        "        C_for_max_score = i\n",
        "print('\\n')\n",
        "print('Максимальная точность (score), равная', max_score,', получается при С, равном', C_list[C_for_max_score])\n",
        "pd.options.display.float_format = '{:,.3g}'.format\n",
        "coef_matrix_simple"
      ],
      "execution_count": null,
      "outputs": [
        {
          "output_type": "stream",
          "text": [
            "При С = 1e-05 точность равна 0.0\n",
            "При С = 0.0001 точность равна 0.234375\n",
            "При С = 0.001 точность равна 0.6953125\n",
            "При С = 0.01 точность равна 0.7421875\n",
            "При С = 0.1 точность равна 0.7682291666666666\n",
            "При С = 1 точность равна 0.7630208333333334\n",
            "При С = 10 точность равна 0.7734375\n",
            "При С = 100 точность равна 0.7682291666666666\n",
            "При С = 1000 точность равна 0.7682291666666666\n",
            "При С = 10000 точность равна 0.7682291666666666\n",
            "При С = 100000 точность равна 0.7682291666666666\n",
            "\n",
            "\n",
            "Максимальная точность (score), равная 0.7734375 , получается при С, равном 10\n"
          ],
          "name": "stdout"
        },
        {
          "output_type": "stream",
          "text": [
            "/usr/local/lib/python3.6/dist-packages/sklearn/linear_model/_logistic.py:940: ConvergenceWarning: lbfgs failed to converge (status=1):\n",
            "STOP: TOTAL NO. of ITERATIONS REACHED LIMIT.\n",
            "\n",
            "Increase the number of iterations (max_iter) or scale the data as shown in:\n",
            "    https://scikit-learn.org/stable/modules/preprocessing.html\n",
            "Please also refer to the documentation for alternative solver options:\n",
            "    https://scikit-learn.org/stable/modules/linear_model.html#logistic-regression\n",
            "  extra_warning_msg=_LOGISTIC_SOLVER_CONVERGENCE_MSG)\n"
          ],
          "name": "stderr"
        },
        {
          "output_type": "execute_result",
          "data": {
            "text/html": [
              "<div>\n",
              "<style scoped>\n",
              "    .dataframe tbody tr th:only-of-type {\n",
              "        vertical-align: middle;\n",
              "    }\n",
              "\n",
              "    .dataframe tbody tr th {\n",
              "        vertical-align: top;\n",
              "    }\n",
              "\n",
              "    .dataframe thead th {\n",
              "        text-align: right;\n",
              "    }\n",
              "</style>\n",
              "<table border=\"1\" class=\"dataframe\">\n",
              "  <thead>\n",
              "    <tr style=\"text-align: right;\">\n",
              "      <th></th>\n",
              "      <th>coef_MinTemp</th>\n",
              "      <th>coef_MaxTemp</th>\n",
              "      <th>coef_Rainfall</th>\n",
              "      <th>coef_Evaporation</th>\n",
              "      <th>coef_Sunshine</th>\n",
              "      <th>coef_WindGustSpeed</th>\n",
              "      <th>coef_WindSpeed9am</th>\n",
              "      <th>coef_WindSpeed3pm</th>\n",
              "      <th>coef_Humidity9am</th>\n",
              "      <th>coef_Humidity3pm</th>\n",
              "      <th>coef_Pressure9am</th>\n",
              "      <th>coef_Pressure3pm</th>\n",
              "      <th>coef_Cloud9am</th>\n",
              "      <th>coef_Cloud3pm</th>\n",
              "      <th>coef_Temp9am</th>\n",
              "      <th>coef_Temp3pm</th>\n",
              "      <th>coef_RainToday</th>\n",
              "    </tr>\n",
              "  </thead>\n",
              "  <tbody>\n",
              "    <tr>\n",
              "      <th>C=0.000010</th>\n",
              "      <td>0.000207</td>\n",
              "      <td>-0.000394</td>\n",
              "      <td>0.000158</td>\n",
              "      <td>-0.000157</td>\n",
              "      <td>-0.00164</td>\n",
              "      <td>0.000384</td>\n",
              "      <td>0.000139</td>\n",
              "      <td>0.000173</td>\n",
              "      <td>0.00076</td>\n",
              "      <td>0.0012</td>\n",
              "      <td>-0.000484</td>\n",
              "      <td>-0.000445</td>\n",
              "      <td>0.00153</td>\n",
              "      <td>0.00165</td>\n",
              "      <td>-6.87e-05</td>\n",
              "      <td>-0.000442</td>\n",
              "      <td>0.00193</td>\n",
              "    </tr>\n",
              "    <tr>\n",
              "      <th>C=0.000100</th>\n",
              "      <td>0.00207</td>\n",
              "      <td>-0.00385</td>\n",
              "      <td>0.00155</td>\n",
              "      <td>-0.00154</td>\n",
              "      <td>-0.0162</td>\n",
              "      <td>0.0038</td>\n",
              "      <td>0.00137</td>\n",
              "      <td>0.00171</td>\n",
              "      <td>0.00747</td>\n",
              "      <td>0.0119</td>\n",
              "      <td>-0.0048</td>\n",
              "      <td>-0.00442</td>\n",
              "      <td>0.015</td>\n",
              "      <td>0.0162</td>\n",
              "      <td>-0.000646</td>\n",
              "      <td>-0.00433</td>\n",
              "      <td>0.0189</td>\n",
              "    </tr>\n",
              "    <tr>\n",
              "      <th>C=0.001000</th>\n",
              "      <td>0.02</td>\n",
              "      <td>-0.0309</td>\n",
              "      <td>0.0133</td>\n",
              "      <td>-0.0127</td>\n",
              "      <td>-0.14</td>\n",
              "      <td>0.0353</td>\n",
              "      <td>0.0123</td>\n",
              "      <td>0.0153</td>\n",
              "      <td>0.0636</td>\n",
              "      <td>0.103</td>\n",
              "      <td>-0.0442</td>\n",
              "      <td>-0.0416</td>\n",
              "      <td>0.126</td>\n",
              "      <td>0.14</td>\n",
              "      <td>-0.00326</td>\n",
              "      <td>-0.0356</td>\n",
              "      <td>0.158</td>\n",
              "    </tr>\n",
              "    <tr>\n",
              "      <th>C=0.010000</th>\n",
              "      <td>0.139</td>\n",
              "      <td>-0.0872</td>\n",
              "      <td>0.0632</td>\n",
              "      <td>-0.0481</td>\n",
              "      <td>-0.679</td>\n",
              "      <td>0.246</td>\n",
              "      <td>0.0623</td>\n",
              "      <td>0.0844</td>\n",
              "      <td>0.287</td>\n",
              "      <td>0.531</td>\n",
              "      <td>-0.289</td>\n",
              "      <td>-0.301</td>\n",
              "      <td>0.473</td>\n",
              "      <td>0.64</td>\n",
              "      <td>0.0395</td>\n",
              "      <td>-0.128</td>\n",
              "      <td>0.606</td>\n",
              "    </tr>\n",
              "    <tr>\n",
              "      <th>C=0.100000</th>\n",
              "      <td>0.274</td>\n",
              "      <td>0.0443</td>\n",
              "      <td>0.218</td>\n",
              "      <td>-0.157</td>\n",
              "      <td>-1.62</td>\n",
              "      <td>1.19</td>\n",
              "      <td>-0.0183</td>\n",
              "      <td>0.085</td>\n",
              "      <td>0.772</td>\n",
              "      <td>1.54</td>\n",
              "      <td>-0.949</td>\n",
              "      <td>-1.3</td>\n",
              "      <td>0.297</td>\n",
              "      <td>1.09</td>\n",
              "      <td>0.212</td>\n",
              "      <td>-0.147</td>\n",
              "      <td>0.785</td>\n",
              "    </tr>\n",
              "    <tr>\n",
              "      <th>C=1.000000</th>\n",
              "      <td>-0.375</td>\n",
              "      <td>0.645</td>\n",
              "      <td>1.11</td>\n",
              "      <td>-0.55</td>\n",
              "      <td>-2.33</td>\n",
              "      <td>3.6</td>\n",
              "      <td>-0.57</td>\n",
              "      <td>-0.674</td>\n",
              "      <td>1.31</td>\n",
              "      <td>2.92</td>\n",
              "      <td>-0.184</td>\n",
              "      <td>-3.44</td>\n",
              "      <td>-0.13</td>\n",
              "      <td>0.959</td>\n",
              "      <td>0.402</td>\n",
              "      <td>0.12</td>\n",
              "      <td>0.671</td>\n",
              "    </tr>\n",
              "    <tr>\n",
              "      <th>C=10.000000</th>\n",
              "      <td>-0.806</td>\n",
              "      <td>1.16</td>\n",
              "      <td>3.71</td>\n",
              "      <td>-0.661</td>\n",
              "      <td>-2.32</td>\n",
              "      <td>5.27</td>\n",
              "      <td>-0.836</td>\n",
              "      <td>-1.37</td>\n",
              "      <td>1.45</td>\n",
              "      <td>3.57</td>\n",
              "      <td>5.35</td>\n",
              "      <td>-9.17</td>\n",
              "      <td>-0.118</td>\n",
              "      <td>0.904</td>\n",
              "      <td>1.11</td>\n",
              "      <td>-0.907</td>\n",
              "      <td>0.597</td>\n",
              "    </tr>\n",
              "    <tr>\n",
              "      <th>C=100.000000</th>\n",
              "      <td>-0.689</td>\n",
              "      <td>2.05</td>\n",
              "      <td>5.29</td>\n",
              "      <td>-0.495</td>\n",
              "      <td>-2.23</td>\n",
              "      <td>5.66</td>\n",
              "      <td>-0.819</td>\n",
              "      <td>-1.59</td>\n",
              "      <td>1.63</td>\n",
              "      <td>3.44</td>\n",
              "      <td>9.91</td>\n",
              "      <td>-13.8</td>\n",
              "      <td>-0.0635</td>\n",
              "      <td>0.914</td>\n",
              "      <td>1.77</td>\n",
              "      <td>-3.08</td>\n",
              "      <td>0.586</td>\n",
              "    </tr>\n",
              "    <tr>\n",
              "      <th>C=1000.000000</th>\n",
              "      <td>-0.657</td>\n",
              "      <td>2.31</td>\n",
              "      <td>5.54</td>\n",
              "      <td>-0.454</td>\n",
              "      <td>-2.22</td>\n",
              "      <td>5.71</td>\n",
              "      <td>-0.812</td>\n",
              "      <td>-1.62</td>\n",
              "      <td>1.68</td>\n",
              "      <td>3.39</td>\n",
              "      <td>10.8</td>\n",
              "      <td>-14.7</td>\n",
              "      <td>-0.0519</td>\n",
              "      <td>0.915</td>\n",
              "      <td>1.9</td>\n",
              "      <td>-3.62</td>\n",
              "      <td>0.587</td>\n",
              "    </tr>\n",
              "    <tr>\n",
              "      <th>C=10000.000000</th>\n",
              "      <td>-0.65</td>\n",
              "      <td>2.34</td>\n",
              "      <td>5.57</td>\n",
              "      <td>-0.452</td>\n",
              "      <td>-2.21</td>\n",
              "      <td>5.72</td>\n",
              "      <td>-0.811</td>\n",
              "      <td>-1.62</td>\n",
              "      <td>1.68</td>\n",
              "      <td>3.38</td>\n",
              "      <td>10.9</td>\n",
              "      <td>-14.8</td>\n",
              "      <td>-0.0509</td>\n",
              "      <td>0.916</td>\n",
              "      <td>1.91</td>\n",
              "      <td>-3.69</td>\n",
              "      <td>0.587</td>\n",
              "    </tr>\n",
              "    <tr>\n",
              "      <th>C=100000.000000</th>\n",
              "      <td>-0.652</td>\n",
              "      <td>2.34</td>\n",
              "      <td>5.6</td>\n",
              "      <td>-0.452</td>\n",
              "      <td>-2.21</td>\n",
              "      <td>5.72</td>\n",
              "      <td>-0.809</td>\n",
              "      <td>-1.63</td>\n",
              "      <td>1.69</td>\n",
              "      <td>3.38</td>\n",
              "      <td>10.9</td>\n",
              "      <td>-14.8</td>\n",
              "      <td>-0.0509</td>\n",
              "      <td>0.916</td>\n",
              "      <td>1.92</td>\n",
              "      <td>-3.7</td>\n",
              "      <td>0.586</td>\n",
              "    </tr>\n",
              "  </tbody>\n",
              "</table>\n",
              "</div>"
            ],
            "text/plain": [
              "                coef_MinTemp coef_MaxTemp  ... coef_Temp3pm coef_RainToday\n",
              "C=0.000010          0.000207    -0.000394  ...    -0.000442        0.00193\n",
              "C=0.000100           0.00207     -0.00385  ...     -0.00433         0.0189\n",
              "C=0.001000              0.02      -0.0309  ...      -0.0356          0.158\n",
              "C=0.010000             0.139      -0.0872  ...       -0.128          0.606\n",
              "C=0.100000             0.274       0.0443  ...       -0.147          0.785\n",
              "C=1.000000            -0.375        0.645  ...         0.12          0.671\n",
              "C=10.000000           -0.806         1.16  ...       -0.907          0.597\n",
              "C=100.000000          -0.689         2.05  ...        -3.08          0.586\n",
              "C=1000.000000         -0.657         2.31  ...        -3.62          0.587\n",
              "C=10000.000000         -0.65         2.34  ...        -3.69          0.587\n",
              "C=100000.000000       -0.652         2.34  ...         -3.7          0.586\n",
              "\n",
              "[11 rows x 17 columns]"
            ]
          },
          "metadata": {
            "tags": []
          },
          "execution_count": 8
        }
      ]
    },
    {
      "cell_type": "markdown",
      "metadata": {
        "id": "o5IoHvRSkcgZ"
      },
      "source": [
        "При С=10 recall максимальный. На маленькой глубине регуляризации наблюдается переобучение."
      ]
    },
    {
      "cell_type": "markdown",
      "metadata": {
        "id": "up3FkaAQkf15"
      },
      "source": [
        "Оценим остальные метрики."
      ]
    },
    {
      "cell_type": "code",
      "metadata": {
        "id": "p4sXRxDcCG3Y",
        "colab": {
          "base_uri": "https://localhost:8080/"
        },
        "outputId": "c86cda1b-588f-4f2f-e9aa-4b58ac837066"
      },
      "source": [
        "clf = LogisticRegression(C=C_list[C_for_max_score], random_state=10,max_iter=200,solver='lbfgs')\n",
        "clf.fit(X_train_scaled, y_train)\n",
        "a=clf.predict(X_test_scaled)\n",
        "print('Accuracy:', accuracy_score(y_test, a))\n",
        "print('Precision:', precision_score(y_test, a))\n",
        "print('Recall:', recall_score(y_test, a))\n",
        "print('ROC AUC:', roc_auc_score(y_test, a))\n",
        "pr, rec, _ = precision_recall_curve(y_test, a)\n",
        "print('PRC AUC:', auc(rec, pr))\n",
        "print('F1:', f1_score(y_test, a))\n",
        "print('F0.5:', fbeta_score(y_test, a, 0.5))\n",
        "print('F2:', fbeta_score(y_test, a, 2))"
      ],
      "execution_count": null,
      "outputs": [
        {
          "output_type": "stream",
          "text": [
            "Accuracy: 0.7847593582887701\n",
            "Precision: 0.8005390835579514\n",
            "Recall: 0.7734375\n",
            "ROC AUC: 0.7850703983516484\n",
            "PRC AUC: 0.8451433719928795\n",
            "F1: 0.7867549668874173\n",
            "F0.5: 0.7949678800856532\n",
            "F2: 0.7787100157315155\n"
          ],
          "name": "stdout"
        }
      ]
    },
    {
      "cell_type": "markdown",
      "metadata": {
        "id": "0YI313Mqn6CO"
      },
      "source": [
        "Обучаем логистическую регрессию L1-регуляризаций, считаем recall и оцениваем веса признаков."
      ]
    },
    {
      "cell_type": "code",
      "metadata": {
        "id": "REOeDejyYs5q",
        "colab": {
          "base_uri": "https://localhost:8080/",
          "height": 648
        },
        "outputId": "65044523-d3d4-4b55-e3f5-8c13b95db212"
      },
      "source": [
        " accuracy = []\n",
        "C_list = [10**-5, 10**-4, 10**-3, 10**-2, 10**-1, 10**0, 10**1, 10**2, 10**3, 10**4, 10**5]\n",
        "\n",
        "for i in range(0, len(C_list)):\n",
        "    clf = LogisticRegression(C=C_list[i], random_state=10, penalty='l1',solver='liblinear', max_iter=200)\n",
        "    clf.fit(X_train_scaled, y_train)\n",
        "    a=clf.predict(X_test_scaled)\n",
        "    #pr, rec, _ = precision_recall_curve(y_test, a)\n",
        "    current_score = recall_score(y_test, a)\n",
        "    coef_matrix_simple.iloc[i,:]=clf.coef_\n",
        "    accuracy.append(current_score)\n",
        "    print('При С =', C_list[i], 'точность равна', current_score)\n",
        "max_score = 0    \n",
        "for i in range(0, len(accuracy)):\n",
        "    if max_score < accuracy[i]:\n",
        "        max_score = accuracy[i]\n",
        "        C_for_max_score = i\n",
        "print('\\n')\n",
        "print('Максимальная точность (score), равная', max_score,', получается при С, равном', C_list[C_for_max_score])\n",
        "coef_matrix_simple"
      ],
      "execution_count": null,
      "outputs": [
        {
          "output_type": "stream",
          "text": [
            "При С = 1e-05 точность равна 0.0\n",
            "При С = 0.0001 точность равна 0.0\n",
            "При С = 0.001 точность равна 0.0\n",
            "При С = 0.01 точность равна 0.6979166666666666\n",
            "При С = 0.1 точность равна 0.7708333333333334\n",
            "При С = 1 точность равна 0.765625\n",
            "При С = 10 точность равна 0.7708333333333334\n",
            "При С = 100 точность равна 0.7682291666666666\n",
            "При С = 1000 точность равна 0.7682291666666666\n",
            "При С = 10000 точность равна 0.7682291666666666\n",
            "При С = 100000 точность равна 0.7682291666666666\n",
            "\n",
            "\n",
            "Максимальная точность (score), равная 0.7708333333333334 , получается при С, равном 0.1\n"
          ],
          "name": "stdout"
        },
        {
          "output_type": "execute_result",
          "data": {
            "text/html": [
              "<div>\n",
              "<style scoped>\n",
              "    .dataframe tbody tr th:only-of-type {\n",
              "        vertical-align: middle;\n",
              "    }\n",
              "\n",
              "    .dataframe tbody tr th {\n",
              "        vertical-align: top;\n",
              "    }\n",
              "\n",
              "    .dataframe thead th {\n",
              "        text-align: right;\n",
              "    }\n",
              "</style>\n",
              "<table border=\"1\" class=\"dataframe\">\n",
              "  <thead>\n",
              "    <tr style=\"text-align: right;\">\n",
              "      <th></th>\n",
              "      <th>coef_MinTemp</th>\n",
              "      <th>coef_MaxTemp</th>\n",
              "      <th>coef_Rainfall</th>\n",
              "      <th>coef_Evaporation</th>\n",
              "      <th>coef_Sunshine</th>\n",
              "      <th>coef_WindGustSpeed</th>\n",
              "      <th>coef_WindSpeed9am</th>\n",
              "      <th>coef_WindSpeed3pm</th>\n",
              "      <th>coef_Humidity9am</th>\n",
              "      <th>coef_Humidity3pm</th>\n",
              "      <th>coef_Pressure9am</th>\n",
              "      <th>coef_Pressure3pm</th>\n",
              "      <th>coef_Cloud9am</th>\n",
              "      <th>coef_Cloud3pm</th>\n",
              "      <th>coef_Temp9am</th>\n",
              "      <th>coef_Temp3pm</th>\n",
              "      <th>coef_RainToday</th>\n",
              "    </tr>\n",
              "  </thead>\n",
              "  <tbody>\n",
              "    <tr>\n",
              "      <th>C=0.000010</th>\n",
              "      <td>0</td>\n",
              "      <td>0</td>\n",
              "      <td>0</td>\n",
              "      <td>0</td>\n",
              "      <td>0</td>\n",
              "      <td>0</td>\n",
              "      <td>0</td>\n",
              "      <td>0</td>\n",
              "      <td>0</td>\n",
              "      <td>0</td>\n",
              "      <td>0</td>\n",
              "      <td>0</td>\n",
              "      <td>0</td>\n",
              "      <td>0</td>\n",
              "      <td>0</td>\n",
              "      <td>0</td>\n",
              "      <td>0</td>\n",
              "    </tr>\n",
              "    <tr>\n",
              "      <th>C=0.000100</th>\n",
              "      <td>0</td>\n",
              "      <td>0</td>\n",
              "      <td>0</td>\n",
              "      <td>0</td>\n",
              "      <td>0</td>\n",
              "      <td>0</td>\n",
              "      <td>0</td>\n",
              "      <td>0</td>\n",
              "      <td>0</td>\n",
              "      <td>0</td>\n",
              "      <td>0</td>\n",
              "      <td>0</td>\n",
              "      <td>0</td>\n",
              "      <td>0</td>\n",
              "      <td>0</td>\n",
              "      <td>0</td>\n",
              "      <td>0</td>\n",
              "    </tr>\n",
              "    <tr>\n",
              "      <th>C=0.001000</th>\n",
              "      <td>0</td>\n",
              "      <td>0</td>\n",
              "      <td>0</td>\n",
              "      <td>0</td>\n",
              "      <td>0</td>\n",
              "      <td>0</td>\n",
              "      <td>0</td>\n",
              "      <td>0</td>\n",
              "      <td>0</td>\n",
              "      <td>0</td>\n",
              "      <td>0</td>\n",
              "      <td>0</td>\n",
              "      <td>0</td>\n",
              "      <td>0</td>\n",
              "      <td>0</td>\n",
              "      <td>0</td>\n",
              "      <td>0</td>\n",
              "    </tr>\n",
              "    <tr>\n",
              "      <th>C=0.010000</th>\n",
              "      <td>0</td>\n",
              "      <td>0</td>\n",
              "      <td>0</td>\n",
              "      <td>0</td>\n",
              "      <td>-0.899</td>\n",
              "      <td>0</td>\n",
              "      <td>0</td>\n",
              "      <td>0</td>\n",
              "      <td>0</td>\n",
              "      <td>0</td>\n",
              "      <td>0</td>\n",
              "      <td>0</td>\n",
              "      <td>0</td>\n",
              "      <td>0.395</td>\n",
              "      <td>0</td>\n",
              "      <td>0</td>\n",
              "      <td>0.535</td>\n",
              "    </tr>\n",
              "    <tr>\n",
              "      <th>C=0.100000</th>\n",
              "      <td>0</td>\n",
              "      <td>0</td>\n",
              "      <td>0</td>\n",
              "      <td>0</td>\n",
              "      <td>-2.07</td>\n",
              "      <td>1.39</td>\n",
              "      <td>0</td>\n",
              "      <td>0</td>\n",
              "      <td>0.085</td>\n",
              "      <td>2.53</td>\n",
              "      <td>0</td>\n",
              "      <td>-2.84</td>\n",
              "      <td>0</td>\n",
              "      <td>0.878</td>\n",
              "      <td>0</td>\n",
              "      <td>0</td>\n",
              "      <td>0.782</td>\n",
              "    </tr>\n",
              "    <tr>\n",
              "      <th>C=1.000000</th>\n",
              "      <td>0</td>\n",
              "      <td>0.151</td>\n",
              "      <td>1.41</td>\n",
              "      <td>-0.0375</td>\n",
              "      <td>-2.35</td>\n",
              "      <td>4.48</td>\n",
              "      <td>-0.795</td>\n",
              "      <td>-1.09</td>\n",
              "      <td>1.06</td>\n",
              "      <td>3.43</td>\n",
              "      <td>3.74</td>\n",
              "      <td>-7.94</td>\n",
              "      <td>-0.115</td>\n",
              "      <td>0.834</td>\n",
              "      <td>0</td>\n",
              "      <td>0</td>\n",
              "      <td>0.686</td>\n",
              "    </tr>\n",
              "    <tr>\n",
              "      <th>C=10.000000</th>\n",
              "      <td>-0.539</td>\n",
              "      <td>1.51</td>\n",
              "      <td>5.08</td>\n",
              "      <td>-0.406</td>\n",
              "      <td>-2.22</td>\n",
              "      <td>5.59</td>\n",
              "      <td>-0.836</td>\n",
              "      <td>-1.55</td>\n",
              "      <td>1.49</td>\n",
              "      <td>3.55</td>\n",
              "      <td>9.81</td>\n",
              "      <td>-13.8</td>\n",
              "      <td>-0.0649</td>\n",
              "      <td>0.918</td>\n",
              "      <td>1.4</td>\n",
              "      <td>-2.35</td>\n",
              "      <td>0.596</td>\n",
              "    </tr>\n",
              "    <tr>\n",
              "      <th>C=100.000000</th>\n",
              "      <td>-0.649</td>\n",
              "      <td>2.2</td>\n",
              "      <td>5.52</td>\n",
              "      <td>-0.451</td>\n",
              "      <td>-2.22</td>\n",
              "      <td>5.7</td>\n",
              "      <td>-0.815</td>\n",
              "      <td>-1.61</td>\n",
              "      <td>1.66</td>\n",
              "      <td>3.41</td>\n",
              "      <td>10.7</td>\n",
              "      <td>-14.6</td>\n",
              "      <td>-0.0534</td>\n",
              "      <td>0.916</td>\n",
              "      <td>1.86</td>\n",
              "      <td>-3.46</td>\n",
              "      <td>0.586</td>\n",
              "    </tr>\n",
              "    <tr>\n",
              "      <th>C=1000.000000</th>\n",
              "      <td>-0.661</td>\n",
              "      <td>2.27</td>\n",
              "      <td>5.57</td>\n",
              "      <td>-0.456</td>\n",
              "      <td>-2.22</td>\n",
              "      <td>5.71</td>\n",
              "      <td>-0.813</td>\n",
              "      <td>-1.62</td>\n",
              "      <td>1.68</td>\n",
              "      <td>3.4</td>\n",
              "      <td>10.8</td>\n",
              "      <td>-14.7</td>\n",
              "      <td>-0.0522</td>\n",
              "      <td>0.916</td>\n",
              "      <td>1.9</td>\n",
              "      <td>-3.57</td>\n",
              "      <td>0.585</td>\n",
              "    </tr>\n",
              "    <tr>\n",
              "      <th>C=10000.000000</th>\n",
              "      <td>-0.662</td>\n",
              "      <td>2.28</td>\n",
              "      <td>5.57</td>\n",
              "      <td>-0.456</td>\n",
              "      <td>-2.22</td>\n",
              "      <td>5.72</td>\n",
              "      <td>-0.813</td>\n",
              "      <td>-1.62</td>\n",
              "      <td>1.68</td>\n",
              "      <td>3.39</td>\n",
              "      <td>10.8</td>\n",
              "      <td>-14.7</td>\n",
              "      <td>-0.0521</td>\n",
              "      <td>0.916</td>\n",
              "      <td>1.91</td>\n",
              "      <td>-3.58</td>\n",
              "      <td>0.585</td>\n",
              "    </tr>\n",
              "    <tr>\n",
              "      <th>C=100000.000000</th>\n",
              "      <td>-0.662</td>\n",
              "      <td>2.28</td>\n",
              "      <td>5.57</td>\n",
              "      <td>-0.456</td>\n",
              "      <td>-2.22</td>\n",
              "      <td>5.72</td>\n",
              "      <td>-0.813</td>\n",
              "      <td>-1.62</td>\n",
              "      <td>1.68</td>\n",
              "      <td>3.39</td>\n",
              "      <td>10.8</td>\n",
              "      <td>-14.7</td>\n",
              "      <td>-0.0521</td>\n",
              "      <td>0.916</td>\n",
              "      <td>1.91</td>\n",
              "      <td>-3.59</td>\n",
              "      <td>0.585</td>\n",
              "    </tr>\n",
              "  </tbody>\n",
              "</table>\n",
              "</div>"
            ],
            "text/plain": [
              "                coef_MinTemp coef_MaxTemp  ... coef_Temp3pm coef_RainToday\n",
              "C=0.000010                 0            0  ...            0              0\n",
              "C=0.000100                 0            0  ...            0              0\n",
              "C=0.001000                 0            0  ...            0              0\n",
              "C=0.010000                 0            0  ...            0          0.535\n",
              "C=0.100000                 0            0  ...            0          0.782\n",
              "C=1.000000                 0        0.151  ...            0          0.686\n",
              "C=10.000000           -0.539         1.51  ...        -2.35          0.596\n",
              "C=100.000000          -0.649          2.2  ...        -3.46          0.586\n",
              "C=1000.000000         -0.661         2.27  ...        -3.57          0.585\n",
              "C=10000.000000        -0.662         2.28  ...        -3.58          0.585\n",
              "C=100000.000000       -0.662         2.28  ...        -3.59          0.585\n",
              "\n",
              "[11 rows x 17 columns]"
            ]
          },
          "metadata": {
            "tags": []
          },
          "execution_count": 11
        }
      ]
    },
    {
      "cell_type": "markdown",
      "metadata": {
        "id": "pGbjqFUFoZZ2"
      },
      "source": [
        "При С=0,1 и С=10 recall максимальный, однако при С=0,1 больше зануленных признаков. Это поможет определить значимость признаков. Значимыми оказались: sunshine(количество часов солнечной погоды), Humidity3pm(влажность в 3 часа дня), WindGustSpeed (скорость сильнейшего порыва ветра за день), Pressure3pm(давление в 3 часа дня). "
      ]
    },
    {
      "cell_type": "markdown",
      "metadata": {
        "id": "V0pwUtjYp0M9"
      },
      "source": [
        "Смотрим остальные метрики."
      ]
    },
    {
      "cell_type": "code",
      "metadata": {
        "id": "CtceMzkN9Bek",
        "colab": {
          "base_uri": "https://localhost:8080/"
        },
        "outputId": "78b99410-c063-4540-f82d-58fdfe267671"
      },
      "source": [
        "clf = LogisticRegression(C=C_list[C_for_max_score], random_state=10,max_iter=200,penalty='l1',solver='liblinear')\n",
        "clf.fit(X_train_scaled, y_train)\n",
        "a=clf.predict(X_test_scaled)\n",
        "print('Accuracy:', accuracy_score(y_test, a))\n",
        "print('Precision:', precision_score(y_test, a))\n",
        "print('Recall:', recall_score(y_test, a))\n",
        "print('ROC AUC:', roc_auc_score(y_test, a))\n",
        "pr, rec, _ = precision_recall_curve(y_test, a)\n",
        "print('PRC AUC:', auc(rec, pr))\n",
        "print('F1:', f1_score(y_test, a))\n",
        "print('F0.5:', fbeta_score(y_test, a, 0.5))\n",
        "print('F2:', fbeta_score(y_test, a, 2))"
      ],
      "execution_count": null,
      "outputs": [
        {
          "output_type": "stream",
          "text": [
            "Accuracy: 0.7780748663101604\n",
            "Precision: 0.7914438502673797\n",
            "Recall: 0.7708333333333334\n",
            "ROC AUC: 0.7782738095238095\n",
            "PRC AUC: 0.8399621212121213\n",
            "F1: 0.7810026385224274\n",
            "F0.5: 0.7872340425531915\n",
            "F2: 0.774869109947644\n"
          ],
          "name": "stdout"
        }
      ]
    },
    {
      "cell_type": "markdown",
      "metadata": {
        "id": "a9eMeAEEp5i6"
      },
      "source": [
        "Выкидываем зануленные признаки и оценим без них."
      ]
    },
    {
      "cell_type": "code",
      "metadata": {
        "id": "VxCphS7E70Z6"
      },
      "source": [
        "X_train_scaled=X_train_scaled.drop(['Rainfall','Cloud9am','MinTemp','MaxTemp','Rainfall','Evaporation','WindSpeed9am','WindSpeed3pm','Pressure9am','Temp9am','Temp3pm'],axis='columns')"
      ],
      "execution_count": null,
      "outputs": []
    },
    {
      "cell_type": "code",
      "metadata": {
        "id": "G-SdJaIp8jpy"
      },
      "source": [
        "X_test_scaled=X_test_scaled.drop(['Rainfall','Cloud9am','MinTemp','MaxTemp','Rainfall','Evaporation','WindSpeed9am','WindSpeed3pm','Pressure9am','Temp9am','Temp3pm'],axis='columns')"
      ],
      "execution_count": null,
      "outputs": []
    },
    {
      "cell_type": "code",
      "metadata": {
        "id": "exak_CL8ZZFg",
        "colab": {
          "base_uri": "https://localhost:8080/"
        },
        "outputId": "03722d2f-d40b-4557-d12f-c0276c07c890"
      },
      "source": [
        "clf = LogisticRegression(C=C_list[C_for_max_score], random_state=10,max_iter=200,penalty='l1',solver='liblinear')\n",
        "clf.fit(X_train_scaled, y_train)\n",
        "a=clf.predict(X_test_scaled)\n",
        "print('Accuracy:', accuracy_score(y_test, a))\n",
        "print('Precision:', precision_score(y_test, a))\n",
        "print('Recall:', recall_score(y_test, a))\n",
        "print('ROC AUC:', roc_auc_score(y_test, a))\n",
        "pr, rec, _ = precision_recall_curve(y_test, a)\n",
        "print('PRC AUC:', auc(rec, pr))\n",
        "print('F1:', f1_score(y_test, a))\n",
        "print('F0.5:', fbeta_score(y_test, a, 0.5))\n",
        "print('F2:', fbeta_score(y_test, a, 2))"
      ],
      "execution_count": null,
      "outputs": [
        {
          "output_type": "stream",
          "text": [
            "Accuracy: 0.7780748663101604\n",
            "Precision: 0.7914438502673797\n",
            "Recall: 0.7708333333333334\n",
            "ROC AUC: 0.7782738095238095\n",
            "PRC AUC: 0.8399621212121213\n",
            "F1: 0.7810026385224274\n",
            "F0.5: 0.7872340425531915\n",
            "F2: 0.774869109947644\n"
          ],
          "name": "stdout"
        }
      ]
    }
  ]
}