{
  "nbformat": 4,
  "nbformat_minor": 0,
  "metadata": {
    "colab": {
      "name": "Lab1Rain.ipynb\"",
      "provenance": [],
      "collapsed_sections": []
    },
    "kernelspec": {
      "name": "python3",
      "display_name": "Python 3"
    }
  },
  "cells": [
    {
      "cell_type": "markdown",
      "metadata": {
        "id": "PGTsU6-mhK8q"
      },
      "source": [
        "Подключим необходимые библиотеки."
      ]
    },
    {
      "cell_type": "code",
      "metadata": {
        "id": "KSxoJLlkI5eD",
        "colab": {
          "base_uri": "https://localhost:8080/",
          "height": 34
        },
        "outputId": "afe11d62-ec77-4e53-f5e6-f16569b9bfc5"
      },
      "source": [
        "import pandas as pd\n",
        "import numpy as np\n",
        "import matplotlib.pyplot as plt\n",
        "%matplotlib inline\n",
        "\n",
        "from google.colab import drive\n",
        "drive.mount('/content/drive')"
      ],
      "execution_count": null,
      "outputs": [
        {
          "output_type": "stream",
          "text": [
            "Mounted at /content/drive\n"
          ],
          "name": "stdout"
        }
      ]
    },
    {
      "cell_type": "markdown",
      "metadata": {
        "id": "NKlKNjPuhOHH"
      },
      "source": [
        "Загрузим данные в ноутбук и посмотрим первые 10 записей из набора данных."
      ]
    },
    {
      "cell_type": "code",
      "metadata": {
        "id": "kjddY9wAJKVe",
        "colab": {
          "base_uri": "https://localhost:8080/",
          "height": 549
        },
        "outputId": "011157d4-e744-4cca-85ad-042a66d15086"
      },
      "source": [
        "data = pd.read_csv('/content/drive/My Drive/Colab Notebooks/weatherAUS.csv', sep=',')\n",
        "data.head(10)"
      ],
      "execution_count": null,
      "outputs": [
        {
          "output_type": "execute_result",
          "data": {
            "text/html": [
              "<div>\n",
              "<style scoped>\n",
              "    .dataframe tbody tr th:only-of-type {\n",
              "        vertical-align: middle;\n",
              "    }\n",
              "\n",
              "    .dataframe tbody tr th {\n",
              "        vertical-align: top;\n",
              "    }\n",
              "\n",
              "    .dataframe thead th {\n",
              "        text-align: right;\n",
              "    }\n",
              "</style>\n",
              "<table border=\"1\" class=\"dataframe\">\n",
              "  <thead>\n",
              "    <tr style=\"text-align: right;\">\n",
              "      <th></th>\n",
              "      <th>Date</th>\n",
              "      <th>Location</th>\n",
              "      <th>MinTemp</th>\n",
              "      <th>MaxTemp</th>\n",
              "      <th>Rainfall</th>\n",
              "      <th>Evaporation</th>\n",
              "      <th>Sunshine</th>\n",
              "      <th>WindGustDir</th>\n",
              "      <th>WindGustSpeed</th>\n",
              "      <th>WindDir9am</th>\n",
              "      <th>WindDir3pm</th>\n",
              "      <th>WindSpeed9am</th>\n",
              "      <th>WindSpeed3pm</th>\n",
              "      <th>Humidity9am</th>\n",
              "      <th>Humidity3pm</th>\n",
              "      <th>Pressure9am</th>\n",
              "      <th>Pressure3pm</th>\n",
              "      <th>Cloud9am</th>\n",
              "      <th>Cloud3pm</th>\n",
              "      <th>Temp9am</th>\n",
              "      <th>Temp3pm</th>\n",
              "      <th>RainToday</th>\n",
              "      <th>RISK_MM</th>\n",
              "      <th>RainTomorrow</th>\n",
              "    </tr>\n",
              "  </thead>\n",
              "  <tbody>\n",
              "    <tr>\n",
              "      <th>0</th>\n",
              "      <td>2008-12-01</td>\n",
              "      <td>Albury</td>\n",
              "      <td>13.4</td>\n",
              "      <td>22.9</td>\n",
              "      <td>0.6</td>\n",
              "      <td>NaN</td>\n",
              "      <td>NaN</td>\n",
              "      <td>W</td>\n",
              "      <td>44.0</td>\n",
              "      <td>W</td>\n",
              "      <td>WNW</td>\n",
              "      <td>20.0</td>\n",
              "      <td>24.0</td>\n",
              "      <td>71.0</td>\n",
              "      <td>22.0</td>\n",
              "      <td>1007.7</td>\n",
              "      <td>1007.1</td>\n",
              "      <td>8.0</td>\n",
              "      <td>NaN</td>\n",
              "      <td>16.9</td>\n",
              "      <td>21.8</td>\n",
              "      <td>No</td>\n",
              "      <td>0.0</td>\n",
              "      <td>No</td>\n",
              "    </tr>\n",
              "    <tr>\n",
              "      <th>1</th>\n",
              "      <td>2008-12-02</td>\n",
              "      <td>Albury</td>\n",
              "      <td>7.4</td>\n",
              "      <td>25.1</td>\n",
              "      <td>0.0</td>\n",
              "      <td>NaN</td>\n",
              "      <td>NaN</td>\n",
              "      <td>WNW</td>\n",
              "      <td>44.0</td>\n",
              "      <td>NNW</td>\n",
              "      <td>WSW</td>\n",
              "      <td>4.0</td>\n",
              "      <td>22.0</td>\n",
              "      <td>44.0</td>\n",
              "      <td>25.0</td>\n",
              "      <td>1010.6</td>\n",
              "      <td>1007.8</td>\n",
              "      <td>NaN</td>\n",
              "      <td>NaN</td>\n",
              "      <td>17.2</td>\n",
              "      <td>24.3</td>\n",
              "      <td>No</td>\n",
              "      <td>0.0</td>\n",
              "      <td>No</td>\n",
              "    </tr>\n",
              "    <tr>\n",
              "      <th>2</th>\n",
              "      <td>2008-12-03</td>\n",
              "      <td>Albury</td>\n",
              "      <td>12.9</td>\n",
              "      <td>25.7</td>\n",
              "      <td>0.0</td>\n",
              "      <td>NaN</td>\n",
              "      <td>NaN</td>\n",
              "      <td>WSW</td>\n",
              "      <td>46.0</td>\n",
              "      <td>W</td>\n",
              "      <td>WSW</td>\n",
              "      <td>19.0</td>\n",
              "      <td>26.0</td>\n",
              "      <td>38.0</td>\n",
              "      <td>30.0</td>\n",
              "      <td>1007.6</td>\n",
              "      <td>1008.7</td>\n",
              "      <td>NaN</td>\n",
              "      <td>2.0</td>\n",
              "      <td>21.0</td>\n",
              "      <td>23.2</td>\n",
              "      <td>No</td>\n",
              "      <td>0.0</td>\n",
              "      <td>No</td>\n",
              "    </tr>\n",
              "    <tr>\n",
              "      <th>3</th>\n",
              "      <td>2008-12-04</td>\n",
              "      <td>Albury</td>\n",
              "      <td>9.2</td>\n",
              "      <td>28.0</td>\n",
              "      <td>0.0</td>\n",
              "      <td>NaN</td>\n",
              "      <td>NaN</td>\n",
              "      <td>NE</td>\n",
              "      <td>24.0</td>\n",
              "      <td>SE</td>\n",
              "      <td>E</td>\n",
              "      <td>11.0</td>\n",
              "      <td>9.0</td>\n",
              "      <td>45.0</td>\n",
              "      <td>16.0</td>\n",
              "      <td>1017.6</td>\n",
              "      <td>1012.8</td>\n",
              "      <td>NaN</td>\n",
              "      <td>NaN</td>\n",
              "      <td>18.1</td>\n",
              "      <td>26.5</td>\n",
              "      <td>No</td>\n",
              "      <td>1.0</td>\n",
              "      <td>No</td>\n",
              "    </tr>\n",
              "    <tr>\n",
              "      <th>4</th>\n",
              "      <td>2008-12-05</td>\n",
              "      <td>Albury</td>\n",
              "      <td>17.5</td>\n",
              "      <td>32.3</td>\n",
              "      <td>1.0</td>\n",
              "      <td>NaN</td>\n",
              "      <td>NaN</td>\n",
              "      <td>W</td>\n",
              "      <td>41.0</td>\n",
              "      <td>ENE</td>\n",
              "      <td>NW</td>\n",
              "      <td>7.0</td>\n",
              "      <td>20.0</td>\n",
              "      <td>82.0</td>\n",
              "      <td>33.0</td>\n",
              "      <td>1010.8</td>\n",
              "      <td>1006.0</td>\n",
              "      <td>7.0</td>\n",
              "      <td>8.0</td>\n",
              "      <td>17.8</td>\n",
              "      <td>29.7</td>\n",
              "      <td>No</td>\n",
              "      <td>0.2</td>\n",
              "      <td>No</td>\n",
              "    </tr>\n",
              "    <tr>\n",
              "      <th>5</th>\n",
              "      <td>2008-12-06</td>\n",
              "      <td>Albury</td>\n",
              "      <td>14.6</td>\n",
              "      <td>29.7</td>\n",
              "      <td>0.2</td>\n",
              "      <td>NaN</td>\n",
              "      <td>NaN</td>\n",
              "      <td>WNW</td>\n",
              "      <td>56.0</td>\n",
              "      <td>W</td>\n",
              "      <td>W</td>\n",
              "      <td>19.0</td>\n",
              "      <td>24.0</td>\n",
              "      <td>55.0</td>\n",
              "      <td>23.0</td>\n",
              "      <td>1009.2</td>\n",
              "      <td>1005.4</td>\n",
              "      <td>NaN</td>\n",
              "      <td>NaN</td>\n",
              "      <td>20.6</td>\n",
              "      <td>28.9</td>\n",
              "      <td>No</td>\n",
              "      <td>0.0</td>\n",
              "      <td>No</td>\n",
              "    </tr>\n",
              "    <tr>\n",
              "      <th>6</th>\n",
              "      <td>2008-12-07</td>\n",
              "      <td>Albury</td>\n",
              "      <td>14.3</td>\n",
              "      <td>25.0</td>\n",
              "      <td>0.0</td>\n",
              "      <td>NaN</td>\n",
              "      <td>NaN</td>\n",
              "      <td>W</td>\n",
              "      <td>50.0</td>\n",
              "      <td>SW</td>\n",
              "      <td>W</td>\n",
              "      <td>20.0</td>\n",
              "      <td>24.0</td>\n",
              "      <td>49.0</td>\n",
              "      <td>19.0</td>\n",
              "      <td>1009.6</td>\n",
              "      <td>1008.2</td>\n",
              "      <td>1.0</td>\n",
              "      <td>NaN</td>\n",
              "      <td>18.1</td>\n",
              "      <td>24.6</td>\n",
              "      <td>No</td>\n",
              "      <td>0.0</td>\n",
              "      <td>No</td>\n",
              "    </tr>\n",
              "    <tr>\n",
              "      <th>7</th>\n",
              "      <td>2008-12-08</td>\n",
              "      <td>Albury</td>\n",
              "      <td>7.7</td>\n",
              "      <td>26.7</td>\n",
              "      <td>0.0</td>\n",
              "      <td>NaN</td>\n",
              "      <td>NaN</td>\n",
              "      <td>W</td>\n",
              "      <td>35.0</td>\n",
              "      <td>SSE</td>\n",
              "      <td>W</td>\n",
              "      <td>6.0</td>\n",
              "      <td>17.0</td>\n",
              "      <td>48.0</td>\n",
              "      <td>19.0</td>\n",
              "      <td>1013.4</td>\n",
              "      <td>1010.1</td>\n",
              "      <td>NaN</td>\n",
              "      <td>NaN</td>\n",
              "      <td>16.3</td>\n",
              "      <td>25.5</td>\n",
              "      <td>No</td>\n",
              "      <td>0.0</td>\n",
              "      <td>No</td>\n",
              "    </tr>\n",
              "    <tr>\n",
              "      <th>8</th>\n",
              "      <td>2008-12-09</td>\n",
              "      <td>Albury</td>\n",
              "      <td>9.7</td>\n",
              "      <td>31.9</td>\n",
              "      <td>0.0</td>\n",
              "      <td>NaN</td>\n",
              "      <td>NaN</td>\n",
              "      <td>NNW</td>\n",
              "      <td>80.0</td>\n",
              "      <td>SE</td>\n",
              "      <td>NW</td>\n",
              "      <td>7.0</td>\n",
              "      <td>28.0</td>\n",
              "      <td>42.0</td>\n",
              "      <td>9.0</td>\n",
              "      <td>1008.9</td>\n",
              "      <td>1003.6</td>\n",
              "      <td>NaN</td>\n",
              "      <td>NaN</td>\n",
              "      <td>18.3</td>\n",
              "      <td>30.2</td>\n",
              "      <td>No</td>\n",
              "      <td>1.4</td>\n",
              "      <td>Yes</td>\n",
              "    </tr>\n",
              "    <tr>\n",
              "      <th>9</th>\n",
              "      <td>2008-12-10</td>\n",
              "      <td>Albury</td>\n",
              "      <td>13.1</td>\n",
              "      <td>30.1</td>\n",
              "      <td>1.4</td>\n",
              "      <td>NaN</td>\n",
              "      <td>NaN</td>\n",
              "      <td>W</td>\n",
              "      <td>28.0</td>\n",
              "      <td>S</td>\n",
              "      <td>SSE</td>\n",
              "      <td>15.0</td>\n",
              "      <td>11.0</td>\n",
              "      <td>58.0</td>\n",
              "      <td>27.0</td>\n",
              "      <td>1007.0</td>\n",
              "      <td>1005.7</td>\n",
              "      <td>NaN</td>\n",
              "      <td>NaN</td>\n",
              "      <td>20.1</td>\n",
              "      <td>28.2</td>\n",
              "      <td>Yes</td>\n",
              "      <td>0.0</td>\n",
              "      <td>No</td>\n",
              "    </tr>\n",
              "  </tbody>\n",
              "</table>\n",
              "</div>"
            ],
            "text/plain": [
              "         Date Location  MinTemp  ...  RainToday  RISK_MM  RainTomorrow\n",
              "0  2008-12-01   Albury     13.4  ...         No      0.0            No\n",
              "1  2008-12-02   Albury      7.4  ...         No      0.0            No\n",
              "2  2008-12-03   Albury     12.9  ...         No      0.0            No\n",
              "3  2008-12-04   Albury      9.2  ...         No      1.0            No\n",
              "4  2008-12-05   Albury     17.5  ...         No      0.2            No\n",
              "5  2008-12-06   Albury     14.6  ...         No      0.0            No\n",
              "6  2008-12-07   Albury     14.3  ...         No      0.0            No\n",
              "7  2008-12-08   Albury      7.7  ...         No      0.0            No\n",
              "8  2008-12-09   Albury      9.7  ...         No      1.4           Yes\n",
              "9  2008-12-10   Albury     13.1  ...        Yes      0.0            No\n",
              "\n",
              "[10 rows x 24 columns]"
            ]
          },
          "metadata": {
            "tags": []
          },
          "execution_count": 42
        }
      ]
    },
    {
      "cell_type": "markdown",
      "metadata": {
        "id": "0BYTxRFAhUZt"
      },
      "source": [
        "Выведем краткое описание нашего набора."
      ]
    },
    {
      "cell_type": "code",
      "metadata": {
        "id": "S1Y02gzCJjSp",
        "colab": {
          "base_uri": "https://localhost:8080/",
          "height": 544
        },
        "outputId": "73206531-552a-4e10-86aa-f55a34e94790"
      },
      "source": [
        "data.info()"
      ],
      "execution_count": null,
      "outputs": [
        {
          "output_type": "stream",
          "text": [
            "<class 'pandas.core.frame.DataFrame'>\n",
            "RangeIndex: 142193 entries, 0 to 142192\n",
            "Data columns (total 24 columns):\n",
            " #   Column         Non-Null Count   Dtype  \n",
            "---  ------         --------------   -----  \n",
            " 0   Date           142193 non-null  object \n",
            " 1   Location       142193 non-null  object \n",
            " 2   MinTemp        141556 non-null  float64\n",
            " 3   MaxTemp        141871 non-null  float64\n",
            " 4   Rainfall       140787 non-null  float64\n",
            " 5   Evaporation    81350 non-null   float64\n",
            " 6   Sunshine       74377 non-null   float64\n",
            " 7   WindGustDir    132863 non-null  object \n",
            " 8   WindGustSpeed  132923 non-null  float64\n",
            " 9   WindDir9am     132180 non-null  object \n",
            " 10  WindDir3pm     138415 non-null  object \n",
            " 11  WindSpeed9am   140845 non-null  float64\n",
            " 12  WindSpeed3pm   139563 non-null  float64\n",
            " 13  Humidity9am    140419 non-null  float64\n",
            " 14  Humidity3pm    138583 non-null  float64\n",
            " 15  Pressure9am    128179 non-null  float64\n",
            " 16  Pressure3pm    128212 non-null  float64\n",
            " 17  Cloud9am       88536 non-null   float64\n",
            " 18  Cloud3pm       85099 non-null   float64\n",
            " 19  Temp9am        141289 non-null  float64\n",
            " 20  Temp3pm        139467 non-null  float64\n",
            " 21  RainToday      140787 non-null  object \n",
            " 22  RISK_MM        142193 non-null  float64\n",
            " 23  RainTomorrow   142193 non-null  object \n",
            "dtypes: float64(17), object(7)\n",
            "memory usage: 26.0+ MB\n"
          ],
          "name": "stdout"
        }
      ]
    },
    {
      "cell_type": "markdown",
      "metadata": {
        "id": "l3JbLrwWhW6R"
      },
      "source": [
        "Данный набор содержит климатические параметры для предсказания, будет ли завтра дождь в Австралии. Например, местоположение, максимальная/минимальная температура, давление, дождливость, ясность и т.д. Будем предсказывать значение переменной RainTomorrow, которая означает, будет ли завтра дождь. Эта задача - задача бинарной классификации."
      ]
    },
    {
      "cell_type": "markdown",
      "metadata": {
        "id": "gEOf9MHRhZ22"
      },
      "source": [
        "Удалим все отсутствующие данные (NaN)."
      ]
    },
    {
      "cell_type": "code",
      "metadata": {
        "id": "pGt11PyZuGit"
      },
      "source": [
        "data=data.dropna(0)"
      ],
      "execution_count": null,
      "outputs": []
    },
    {
      "cell_type": "markdown",
      "metadata": {
        "id": "ibMSZpuxhcm-"
      },
      "source": [
        "Разделим наш набор данных на два набора данных: один соответствует значению \"Yes\", а второй значению \"No\"."
      ]
    },
    {
      "cell_type": "code",
      "metadata": {
        "id": "0CWduxxstOAM"
      },
      "source": [
        "data1 = data[data['RainTomorrow'] == 'Yes']\n",
        "data2=data[data['RainTomorrow'] == 'No']"
      ],
      "execution_count": null,
      "outputs": []
    },
    {
      "cell_type": "markdown",
      "metadata": {
        "id": "AJaNlbWPaYNd"
      },
      "source": [
        "Количественно ограничим наш наборы данных, причем в равных соотношениях."
      ]
    },
    {
      "cell_type": "code",
      "metadata": {
        "id": "BhuUTY9JuRI7"
      },
      "source": [
        "data1=data1.sample(frac=0.12, replace=True, random_state=1)\n",
        "data2=data2.sample(frac=0.0341, replace=True, random_state=1)"
      ],
      "execution_count": null,
      "outputs": []
    },
    {
      "cell_type": "markdown",
      "metadata": {
        "id": "kBTdep5iaiDx"
      },
      "source": [
        "Произведем конкатенацию этих двух наборов."
      ]
    },
    {
      "cell_type": "code",
      "metadata": {
        "id": "SI7FgI8CuwUA"
      },
      "source": [
        "data = data1.append(data2)\n",
        "data = data.reset_index(drop=True)"
      ],
      "execution_count": null,
      "outputs": []
    },
    {
      "cell_type": "markdown",
      "metadata": {
        "id": "Ems1pwLMajyF"
      },
      "source": [
        "Получившийся набор данных."
      ]
    },
    {
      "cell_type": "code",
      "metadata": {
        "id": "6FIQhFoXwzUp",
        "colab": {
          "base_uri": "https://localhost:8080/",
          "height": 544
        },
        "outputId": "b0a5b7b5-0500-4918-c064-82415393e64f"
      },
      "source": [
        "data.info()"
      ],
      "execution_count": null,
      "outputs": [
        {
          "output_type": "stream",
          "text": [
            "<class 'pandas.core.frame.DataFrame'>\n",
            "RangeIndex: 2991 entries, 0 to 2990\n",
            "Data columns (total 24 columns):\n",
            " #   Column         Non-Null Count  Dtype  \n",
            "---  ------         --------------  -----  \n",
            " 0   Date           2991 non-null   object \n",
            " 1   Location       2991 non-null   object \n",
            " 2   MinTemp        2991 non-null   float64\n",
            " 3   MaxTemp        2991 non-null   float64\n",
            " 4   Rainfall       2991 non-null   float64\n",
            " 5   Evaporation    2991 non-null   float64\n",
            " 6   Sunshine       2991 non-null   float64\n",
            " 7   WindGustDir    2991 non-null   object \n",
            " 8   WindGustSpeed  2991 non-null   float64\n",
            " 9   WindDir9am     2991 non-null   object \n",
            " 10  WindDir3pm     2991 non-null   object \n",
            " 11  WindSpeed9am   2991 non-null   float64\n",
            " 12  WindSpeed3pm   2991 non-null   float64\n",
            " 13  Humidity9am    2991 non-null   float64\n",
            " 14  Humidity3pm    2991 non-null   float64\n",
            " 15  Pressure9am    2991 non-null   float64\n",
            " 16  Pressure3pm    2991 non-null   float64\n",
            " 17  Cloud9am       2991 non-null   float64\n",
            " 18  Cloud3pm       2991 non-null   float64\n",
            " 19  Temp9am        2991 non-null   float64\n",
            " 20  Temp3pm        2991 non-null   float64\n",
            " 21  RainToday      2991 non-null   object \n",
            " 22  RISK_MM        2991 non-null   float64\n",
            " 23  RainTomorrow   2991 non-null   object \n",
            "dtypes: float64(17), object(7)\n",
            "memory usage: 560.9+ KB\n"
          ],
          "name": "stdout"
        }
      ]
    },
    {
      "cell_type": "markdown",
      "metadata": {
        "id": "f2NNHitXapWb"
      },
      "source": [
        "Заменим значения RainTomorrow и RainToday на булевы, т.е. Yes = 1, No = 0."
      ]
    },
    {
      "cell_type": "code",
      "metadata": {
        "id": "sz1AJ3kyKDNQ"
      },
      "source": [
        "#data=data.dropna(0)\n",
        "data['RainTomorrow']=data['RainTomorrow'].replace('Yes',1)\n",
        "data['RainTomorrow']=data['RainTomorrow'].replace('No',0)\n",
        "data['RainToday']=data['RainToday'].replace('Yes',1)\n",
        "data['RainToday']=data['RainToday'].replace('No',0)\n",
        "#data=data.sample(frac=0.05, replace=True, random_state=1)"
      ],
      "execution_count": null,
      "outputs": []
    },
    {
      "cell_type": "markdown",
      "metadata": {
        "id": "o8e35raXhiQ1"
      },
      "source": [
        "Проверим набор данных после всех изменений, чтобы убедиться, что мы удалили ненужные нам столбцы."
      ]
    },
    {
      "cell_type": "code",
      "metadata": {
        "id": "jQZzb0SCFm5k",
        "colab": {
          "base_uri": "https://localhost:8080/",
          "height": 544
        },
        "outputId": "ff7787bc-4d30-461b-91f2-5612f2855bcd"
      },
      "source": [
        "data.info()"
      ],
      "execution_count": null,
      "outputs": [
        {
          "output_type": "stream",
          "text": [
            "<class 'pandas.core.frame.DataFrame'>\n",
            "RangeIndex: 2991 entries, 0 to 2990\n",
            "Data columns (total 24 columns):\n",
            " #   Column         Non-Null Count  Dtype  \n",
            "---  ------         --------------  -----  \n",
            " 0   Date           2991 non-null   object \n",
            " 1   Location       2991 non-null   object \n",
            " 2   MinTemp        2991 non-null   float64\n",
            " 3   MaxTemp        2991 non-null   float64\n",
            " 4   Rainfall       2991 non-null   float64\n",
            " 5   Evaporation    2991 non-null   float64\n",
            " 6   Sunshine       2991 non-null   float64\n",
            " 7   WindGustDir    2991 non-null   object \n",
            " 8   WindGustSpeed  2991 non-null   float64\n",
            " 9   WindDir9am     2991 non-null   object \n",
            " 10  WindDir3pm     2991 non-null   object \n",
            " 11  WindSpeed9am   2991 non-null   float64\n",
            " 12  WindSpeed3pm   2991 non-null   float64\n",
            " 13  Humidity9am    2991 non-null   float64\n",
            " 14  Humidity3pm    2991 non-null   float64\n",
            " 15  Pressure9am    2991 non-null   float64\n",
            " 16  Pressure3pm    2991 non-null   float64\n",
            " 17  Cloud9am       2991 non-null   float64\n",
            " 18  Cloud3pm       2991 non-null   float64\n",
            " 19  Temp9am        2991 non-null   float64\n",
            " 20  Temp3pm        2991 non-null   float64\n",
            " 21  RainToday      2991 non-null   int64  \n",
            " 22  RISK_MM        2991 non-null   float64\n",
            " 23  RainTomorrow   2991 non-null   int64  \n",
            "dtypes: float64(17), int64(2), object(5)\n",
            "memory usage: 560.9+ KB\n"
          ],
          "name": "stdout"
        }
      ]
    },
    {
      "cell_type": "markdown",
      "metadata": {
        "id": "1H0DwHKshuDG"
      },
      "source": [
        "Проверим, есть ли возможность пренебречь еще какими-нибудь параметрами из таблицы. Это стоит делать, поскольку чем меньше признаков - тем легче вычислять расстояние между объектами, то есть алгоритм будет работать быстрее. Посмотрим на корреляцию признаков между собой. Построим графическое представление модуля значения корреляции попарно между признаками."
      ]
    },
    {
      "cell_type": "code",
      "metadata": {
        "id": "7CTGG-0EC6kY",
        "colab": {
          "base_uri": "https://localhost:8080/",
          "height": 910
        },
        "outputId": "8276310f-6c9e-413f-a88b-264b56eff5f2"
      },
      "source": [
        "import seaborn as sns\n",
        "#модуль корреляции\n",
        "corr = data.corr().abs()\n",
        "#размер картинки\n",
        "sns.set(rc={'figure.figsize':(12, 14)})\n",
        "#отрисовываем\n",
        "sns.heatmap(corr, \n",
        "            xticklabels=corr.columns.values,\n",
        "            yticklabels=corr.columns.values)"
      ],
      "execution_count": null,
      "outputs": [
        {
          "output_type": "execute_result",
          "data": {
            "text/plain": [
              "<matplotlib.axes._subplots.AxesSubplot at 0x7fcd391324e0>"
            ]
          },
          "metadata": {
            "tags": []
          },
          "execution_count": 51
        },
        {
          "output_type": "display_data",
          "data": {
            "image/png": "[encoded data removed]",
            "text/plain": [
              "<Figure size 864x1008 with 2 Axes>"
            ]
          },
          "metadata": {
            "tags": []
          }
        }
      ]
    },
    {
      "cell_type": "markdown",
      "metadata": {
        "id": "1GejKVvpj6sQ"
      },
      "source": [
        "Высоко коррелирующих признаков практически нет. Удалим ненужные признаки, а также географические признаки, поскольку они бесполезны для нашей модели (мы не имеем данных о соседних локациях) и признак RISK_MM(кол-во осадков завтра), т.к. он является утечкой данных (т.е. повторяет значение целевой переменной). А также, выходит, что все данные представлены в числовом формате, т.е. нет категориальных признаков."
      ]
    },
    {
      "cell_type": "code",
      "metadata": {
        "id": "yPUUpYEHMhLv"
      },
      "source": [
        "data=data.drop(['Date','RISK_MM','WindDir9am','WindGustDir','WindDir3pm','Location'], axis='columns')"
      ],
      "execution_count": null,
      "outputs": []
    },
    {
      "cell_type": "markdown",
      "metadata": {
        "id": "XIwsnbbWns8h"
      },
      "source": [
        "Проверим изменения."
      ]
    },
    {
      "cell_type": "code",
      "metadata": {
        "id": "23OwGNsFOEyK",
        "colab": {
          "base_uri": "https://localhost:8080/",
          "height": 379
        },
        "outputId": "3ec80c8d-73d5-4655-d756-04f0c838f425"
      },
      "source": [
        "data.head(10)"
      ],
      "execution_count": null,
      "outputs": [
        {
          "output_type": "execute_result",
          "data": {
            "text/html": [
              "<div>\n",
              "<style scoped>\n",
              "    .dataframe tbody tr th:only-of-type {\n",
              "        vertical-align: middle;\n",
              "    }\n",
              "\n",
              "    .dataframe tbody tr th {\n",
              "        vertical-align: top;\n",
              "    }\n",
              "\n",
              "    .dataframe thead th {\n",
              "        text-align: right;\n",
              "    }\n",
              "</style>\n",
              "<table border=\"1\" class=\"dataframe\">\n",
              "  <thead>\n",
              "    <tr style=\"text-align: right;\">\n",
              "      <th></th>\n",
              "      <th>MinTemp</th>\n",
              "      <th>MaxTemp</th>\n",
              "      <th>Rainfall</th>\n",
              "      <th>Evaporation</th>\n",
              "      <th>Sunshine</th>\n",
              "      <th>WindGustSpeed</th>\n",
              "      <th>WindSpeed9am</th>\n",
              "      <th>WindSpeed3pm</th>\n",
              "      <th>Humidity9am</th>\n",
              "      <th>Humidity3pm</th>\n",
              "      <th>Pressure9am</th>\n",
              "      <th>Pressure3pm</th>\n",
              "      <th>Cloud9am</th>\n",
              "      <th>Cloud3pm</th>\n",
              "      <th>Temp9am</th>\n",
              "      <th>Temp3pm</th>\n",
              "      <th>RainToday</th>\n",
              "      <th>RainTomorrow</th>\n",
              "    </tr>\n",
              "  </thead>\n",
              "  <tbody>\n",
              "    <tr>\n",
              "      <th>0</th>\n",
              "      <td>13.6</td>\n",
              "      <td>19.2</td>\n",
              "      <td>8.0</td>\n",
              "      <td>4.2</td>\n",
              "      <td>0.4</td>\n",
              "      <td>56.0</td>\n",
              "      <td>20.0</td>\n",
              "      <td>17.0</td>\n",
              "      <td>88.0</td>\n",
              "      <td>94.0</td>\n",
              "      <td>1028.4</td>\n",
              "      <td>1025.4</td>\n",
              "      <td>8.0</td>\n",
              "      <td>8.0</td>\n",
              "      <td>16.0</td>\n",
              "      <td>16.0</td>\n",
              "      <td>1</td>\n",
              "      <td>1</td>\n",
              "    </tr>\n",
              "    <tr>\n",
              "      <th>1</th>\n",
              "      <td>24.3</td>\n",
              "      <td>32.3</td>\n",
              "      <td>0.0</td>\n",
              "      <td>5.2</td>\n",
              "      <td>5.2</td>\n",
              "      <td>46.0</td>\n",
              "      <td>11.0</td>\n",
              "      <td>9.0</td>\n",
              "      <td>61.0</td>\n",
              "      <td>96.0</td>\n",
              "      <td>1010.7</td>\n",
              "      <td>1008.5</td>\n",
              "      <td>6.0</td>\n",
              "      <td>7.0</td>\n",
              "      <td>27.9</td>\n",
              "      <td>24.6</td>\n",
              "      <td>0</td>\n",
              "      <td>1</td>\n",
              "    </tr>\n",
              "    <tr>\n",
              "      <th>2</th>\n",
              "      <td>22.9</td>\n",
              "      <td>34.8</td>\n",
              "      <td>0.0</td>\n",
              "      <td>9.6</td>\n",
              "      <td>5.3</td>\n",
              "      <td>56.0</td>\n",
              "      <td>19.0</td>\n",
              "      <td>13.0</td>\n",
              "      <td>27.0</td>\n",
              "      <td>25.0</td>\n",
              "      <td>1004.9</td>\n",
              "      <td>1003.4</td>\n",
              "      <td>7.0</td>\n",
              "      <td>7.0</td>\n",
              "      <td>30.6</td>\n",
              "      <td>33.5</td>\n",
              "      <td>0</td>\n",
              "      <td>1</td>\n",
              "    </tr>\n",
              "    <tr>\n",
              "      <th>3</th>\n",
              "      <td>17.9</td>\n",
              "      <td>19.4</td>\n",
              "      <td>0.0</td>\n",
              "      <td>2.2</td>\n",
              "      <td>3.1</td>\n",
              "      <td>48.0</td>\n",
              "      <td>26.0</td>\n",
              "      <td>17.0</td>\n",
              "      <td>87.0</td>\n",
              "      <td>82.0</td>\n",
              "      <td>1014.9</td>\n",
              "      <td>1013.5</td>\n",
              "      <td>8.0</td>\n",
              "      <td>7.0</td>\n",
              "      <td>19.0</td>\n",
              "      <td>17.9</td>\n",
              "      <td>0</td>\n",
              "      <td>1</td>\n",
              "    </tr>\n",
              "    <tr>\n",
              "      <th>4</th>\n",
              "      <td>15.7</td>\n",
              "      <td>23.4</td>\n",
              "      <td>0.0</td>\n",
              "      <td>7.8</td>\n",
              "      <td>9.6</td>\n",
              "      <td>35.0</td>\n",
              "      <td>15.0</td>\n",
              "      <td>15.0</td>\n",
              "      <td>55.0</td>\n",
              "      <td>64.0</td>\n",
              "      <td>1009.1</td>\n",
              "      <td>1008.8</td>\n",
              "      <td>8.0</td>\n",
              "      <td>7.0</td>\n",
              "      <td>20.4</td>\n",
              "      <td>21.3</td>\n",
              "      <td>0</td>\n",
              "      <td>1</td>\n",
              "    </tr>\n",
              "    <tr>\n",
              "      <th>5</th>\n",
              "      <td>21.2</td>\n",
              "      <td>29.8</td>\n",
              "      <td>3.6</td>\n",
              "      <td>6.6</td>\n",
              "      <td>5.4</td>\n",
              "      <td>54.0</td>\n",
              "      <td>26.0</td>\n",
              "      <td>35.0</td>\n",
              "      <td>71.0</td>\n",
              "      <td>52.0</td>\n",
              "      <td>1015.8</td>\n",
              "      <td>1013.1</td>\n",
              "      <td>5.0</td>\n",
              "      <td>7.0</td>\n",
              "      <td>25.5</td>\n",
              "      <td>27.5</td>\n",
              "      <td>1</td>\n",
              "      <td>1</td>\n",
              "    </tr>\n",
              "    <tr>\n",
              "      <th>6</th>\n",
              "      <td>13.2</td>\n",
              "      <td>19.1</td>\n",
              "      <td>0.0</td>\n",
              "      <td>1.6</td>\n",
              "      <td>1.2</td>\n",
              "      <td>59.0</td>\n",
              "      <td>13.0</td>\n",
              "      <td>22.0</td>\n",
              "      <td>75.0</td>\n",
              "      <td>71.0</td>\n",
              "      <td>1020.0</td>\n",
              "      <td>1015.7</td>\n",
              "      <td>6.0</td>\n",
              "      <td>7.0</td>\n",
              "      <td>14.7</td>\n",
              "      <td>18.0</td>\n",
              "      <td>0</td>\n",
              "      <td>1</td>\n",
              "    </tr>\n",
              "    <tr>\n",
              "      <th>7</th>\n",
              "      <td>7.4</td>\n",
              "      <td>14.9</td>\n",
              "      <td>0.0</td>\n",
              "      <td>1.6</td>\n",
              "      <td>6.0</td>\n",
              "      <td>44.0</td>\n",
              "      <td>17.0</td>\n",
              "      <td>19.0</td>\n",
              "      <td>77.0</td>\n",
              "      <td>63.0</td>\n",
              "      <td>1018.8</td>\n",
              "      <td>1013.8</td>\n",
              "      <td>1.0</td>\n",
              "      <td>7.0</td>\n",
              "      <td>9.1</td>\n",
              "      <td>12.5</td>\n",
              "      <td>0</td>\n",
              "      <td>1</td>\n",
              "    </tr>\n",
              "    <tr>\n",
              "      <th>8</th>\n",
              "      <td>19.2</td>\n",
              "      <td>29.8</td>\n",
              "      <td>0.0</td>\n",
              "      <td>5.2</td>\n",
              "      <td>9.9</td>\n",
              "      <td>52.0</td>\n",
              "      <td>9.0</td>\n",
              "      <td>24.0</td>\n",
              "      <td>61.0</td>\n",
              "      <td>57.0</td>\n",
              "      <td>1008.0</td>\n",
              "      <td>1004.9</td>\n",
              "      <td>1.0</td>\n",
              "      <td>1.0</td>\n",
              "      <td>27.7</td>\n",
              "      <td>28.4</td>\n",
              "      <td>0</td>\n",
              "      <td>1</td>\n",
              "    </tr>\n",
              "    <tr>\n",
              "      <th>9</th>\n",
              "      <td>8.5</td>\n",
              "      <td>15.6</td>\n",
              "      <td>0.0</td>\n",
              "      <td>2.2</td>\n",
              "      <td>7.6</td>\n",
              "      <td>65.0</td>\n",
              "      <td>28.0</td>\n",
              "      <td>33.0</td>\n",
              "      <td>67.0</td>\n",
              "      <td>44.0</td>\n",
              "      <td>1021.7</td>\n",
              "      <td>1018.3</td>\n",
              "      <td>1.0</td>\n",
              "      <td>7.0</td>\n",
              "      <td>12.0</td>\n",
              "      <td>14.8</td>\n",
              "      <td>0</td>\n",
              "      <td>1</td>\n",
              "    </tr>\n",
              "  </tbody>\n",
              "</table>\n",
              "</div>"
            ],
            "text/plain": [
              "   MinTemp  MaxTemp  Rainfall  ...  Temp3pm  RainToday  RainTomorrow\n",
              "0     13.6     19.2       8.0  ...     16.0          1             1\n",
              "1     24.3     32.3       0.0  ...     24.6          0             1\n",
              "2     22.9     34.8       0.0  ...     33.5          0             1\n",
              "3     17.9     19.4       0.0  ...     17.9          0             1\n",
              "4     15.7     23.4       0.0  ...     21.3          0             1\n",
              "5     21.2     29.8       3.6  ...     27.5          1             1\n",
              "6     13.2     19.1       0.0  ...     18.0          0             1\n",
              "7      7.4     14.9       0.0  ...     12.5          0             1\n",
              "8     19.2     29.8       0.0  ...     28.4          0             1\n",
              "9      8.5     15.6       0.0  ...     14.8          0             1\n",
              "\n",
              "[10 rows x 18 columns]"
            ]
          },
          "metadata": {
            "tags": []
          },
          "execution_count": 53
        }
      ]
    },
    {
      "cell_type": "markdown",
      "metadata": {
        "id": "bDpqLD6XiVPj"
      },
      "source": [
        "Создаем обучающую и тестовую выборки."
      ]
    },
    {
      "cell_type": "code",
      "metadata": {
        "id": "zm0j6ur7m5uN"
      },
      "source": [
        "data.to_csv('/content/drive/My Drive/Colab Notebooks/Rain.csv')"
      ],
      "execution_count": null,
      "outputs": []
    },
    {
      "cell_type": "markdown",
      "metadata": {
        "id": "yUHY505aKEUa"
      },
      "source": [
        "Выделим в нашей выборке целевую переменную, а также разделим ее на тренировочную и тестовую. Цель построения модели - классифицировать новые данные. По умолчанию,train_test_split откладывает 25% выборок в исходном наборе данных для тестирования."
      ]
    },
    {
      "cell_type": "code",
      "metadata": {
        "id": "C87LVsdkL1qI"
      },
      "source": [
        "X = data[data.columns[:-1]]\n",
        "y = data['RainTomorrow']\n",
        "from sklearn.model_selection import train_test_split\n",
        "X_train, X_test, y_train, y_test = train_test_split(X, y)"
      ],
      "execution_count": null,
      "outputs": []
    },
    {
      "cell_type": "markdown",
      "metadata": {
        "id": "7b1NsePxKQQA"
      },
      "source": [
        "Классификация с помощью метода ближайших соседей:"
      ]
    },
    {
      "cell_type": "code",
      "metadata": {
        "id": "rDyN4jdYQS5t",
        "colab": {
          "base_uri": "https://localhost:8080/",
          "height": 34
        },
        "outputId": "c8edbe9f-2027-4720-8ffd-bb323f1dc14f"
      },
      "source": [
        "#импорт класса классификатора (по ближайшим соседям)\n",
        "from sklearn.neighbors import KNeighborsClassifier\n",
        "#создание нашего классификатора (гиперпараметр - кол-во соседей)\n",
        "clf = KNeighborsClassifier(n_neighbors=5)\n",
        "#обучение на тренировочной выборке\n",
        "clf.fit(X_train, y_train)\n",
        "#доля верных ответов алгоритма на тестовой выборке\n",
        "clf.score(X_test, y_test)"
      ],
      "execution_count": null,
      "outputs": [
        {
          "output_type": "execute_result",
          "data": {
            "text/plain": [
              "0.7433155080213903"
            ]
          },
          "metadata": {
            "tags": []
          },
          "execution_count": 55
        }
      ]
    },
    {
      "cell_type": "markdown",
      "metadata": {
        "id": "00DV2RjfUcAa"
      },
      "source": [
        "Метрика доли правильных ответов (при гиперпараметре 5)."
      ]
    },
    {
      "cell_type": "code",
      "metadata": {
        "id": "ExQWeC6HnhUO",
        "colab": {
          "base_uri": "https://localhost:8080/",
          "height": 828
        },
        "outputId": "fdb7a263-ecf6-4c62-c25a-6b4d6dfb155c"
      },
      "source": [
        "#создаем пустой словарь, в который войдут значения scores\n",
        "train_scores = {}\n",
        "test_scores = {}\n",
        "#цикл заполнения словаря\n",
        "for n in range(1, 40):\n",
        "    clf = KNeighborsClassifier(n_neighbors=n)\n",
        "    clf.fit(X_train, y_train)\n",
        "    #значение качества на текущей итерации\n",
        "    current_train_score = clf.score(X_train, y_train)\n",
        "    current_test_score = clf.score(X_test, y_test)\n",
        "    #запись в словарь\n",
        "    train_scores[n] = current_train_score\n",
        "    test_scores[n] = current_test_score\n",
        "#построение графиков\n",
        "plt.plot(list(train_scores.keys()), list(train_scores.values()), label='Обучающая выборка')\n",
        "plt.plot(list(test_scores.keys()), list(test_scores.values()), label='Тестовая выборка')\n",
        "plt.xlabel('Количество соседей')\n",
        "plt.ylabel('Доля верных ответов')\n",
        "plt.legend()\n",
        "plt.show()"
      ],
      "execution_count": null,
      "outputs": [
        {
          "output_type": "display_data",
          "data": {
            "image/png": "[encoded data removed]",
            "text/plain": [
              "<Figure size 864x1008 with 1 Axes>"
            ]
          },
          "metadata": {
            "tags": []
          }
        }
      ]
    },
    {
      "cell_type": "markdown",
      "metadata": {
        "id": "_yg7GHekNgfB"
      },
      "source": [
        "Судя по графику, оптимальное количество соседей - 11."
      ]
    }
  ]
}